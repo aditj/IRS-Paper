{
 "cells": [
  {
   "cell_type": "markdown",
   "metadata": {},
   "source": [
    "#### Objective: How to better beamform\n",
    "#### Metrics: Time Performance; Data Rate; Versatality in different cases\n",
    "#### "
   ]
  },
  {
   "cell_type": "markdown",
   "metadata": {},
   "source": [
    "#### Libraries\n"
   ]
  },
  {
   "cell_type": "code",
   "execution_count": 15,
   "metadata": {},
   "outputs": [],
   "source": [
    "# helper|\n",
    "from functools import wraps\n",
    "import time\n",
    "\n",
    "# math\n",
    "import numpy as np\n",
    "import scipy.io\n",
    "import scipy as sp\n",
    "import math\n",
    "import cvxpy as cp\n",
    "\n",
    "#plotting\n",
    "import matplotlib.pyplot as plt\n",
    "import time\n"
   ]
  },
  {
   "cell_type": "markdown",
   "metadata": {},
   "source": [
    "#### Functions"
   ]
  },
  {
   "cell_type": "code",
   "execution_count": 16,
   "metadata": {},
   "outputs": [],
   "source": [
    "def generate_channel_coeffs(Nx = 2,y_loc = 5,no_of_samples = 1):\n",
    "    \n",
    "    ## No of IRS Elements\n",
    "    Ny = Nx\n",
    "    \n",
    "    ## Total Number of IRS Elements \n",
    "    N = Nx * Ny # Total number of IRS elements\n",
    "    Nt = 1  # Number of antennas at the transmitter\n",
    "\n",
    "    # Maximum power\n",
    "    max_power_dBm = 10 # dB in milli\n",
    "    max_power_dB = max_power_dBm - 30 # Power in dB\n",
    "    max_power_vec = 10**(max_power_dB/10) # Power in Watts\n",
    "    Bandwidth = 1e6 # Bandwidth\n",
    "    noise_power_dBm =  -174 + 10*np.log10(Bandwidth) + 10 # +10 for noise figure\n",
    "    noise_power_dB = noise_power_dBm - 30 # \n",
    "    noise_var = 10**(noise_power_dB/10)\n",
    "\n",
    "    ## Rician parameters\n",
    "    K_rf = 10\n",
    "\n",
    "    ## Antenna gains in dB\n",
    "    AP_ant_gain_dB   =  0\n",
    "    user_ant_gain_dB = 0\n",
    "    IRS_ant_gain_dB  = 2\n",
    "\n",
    "    fc = 2.4 *(10**9)    #carrier frequency\n",
    "    lambd = ( 3 * 10^8 )/ fc # in meters\n",
    "    d_bs = lambd/2       # Spacing between BS antenna elements in meters\n",
    "    penetration_loss_dB =  20\n",
    "\n",
    "    # cosine  of angle for different antennaes \n",
    "    cos_an = np.cos( np.pi/10  )\n",
    "    ph_inx = np.arange(Nt-1)\n",
    "\n",
    "    # Path loss coefficients, Path loss in db\n",
    "    path_loss_dB = lambda d,eta : 10 * np.log10( 1 / 1e3  / d**(eta) )\n",
    "    eta_dL = 3.6 # Direct\n",
    "    eta_irs = 2.2 # with IRS\n",
    "\n",
    "    d_irs = lambd/4 # Distance between IRS elements\n",
    "    irs_ele_loc = np.arange(Nx)*d_irs; # Location of IRS Elements\n",
    "    coord_X,coord_Y = np.array(np.meshgrid(np.arange(Nx),np.arange(Nx))).T.reshape(-1,N)\n",
    "    X,Y = np.meshgrid(irs_ele_loc,irs_ele_loc)\n",
    "    loc = X.flatten() + 1j*Y.flatten()\n",
    "    \n",
    "    ## Correlation Matrix Spatial\n",
    "    R = np.zeros((N,N))\n",
    "    for i in range(N):\n",
    "        for j in range(N):\n",
    "            R[i][j] = np.sinc(2*(np.abs(loc[i]-loc[j]))/lambd)\n",
    "            \n",
    "    sqrtR = sp.linalg.sqrtm(R)\n",
    "\n",
    "    N_vec = np.arange(N) ### Vector with elements from 0 to N-1\n",
    "    # Coordinates of IRS Elements\n",
    "    u_irs = np.vstack((np.zeros(N),np.mod(N_vec-1,Nx),np.floor((N_vec-1)/Nx)))\n",
    "\n",
    "    ### X,Y,Z Location of Base Station\n",
    "    x,y,z =  0 ,-10, 0 \n",
    "    bs_loc = np.array([x,y,z])\n",
    "    r = np.sqrt(x*x + y*y + z*z)\n",
    "    azimuth = np.arctan2(y,x)\n",
    "    elevation = np.arccos(z/r)\n",
    "    d_BS_IRS = r  ### I.R.S. is at origin Distance of  BS to IRS\n",
    "    psi_irs = azimuth\n",
    "    the_irs = elevation\n",
    "    psi_bs = np.pi - np.abs(azimuth)\n",
    "    the_bs = elevation\n",
    "\n",
    "    ### X,Y,Z Location of User\n",
    "    x,y,z =  0 ,y_loc, -2 \n",
    "    user_loc = np.array([x,y,z])\n",
    "    r = np.sqrt(x*x + y*y + z*z)\n",
    "    azimuth = np.arctan2(y,x)\n",
    "    elevation = np.arccos(z/r)\n",
    "    psi_irs_u = azimuth\n",
    "    the_irs_u = elevation\n",
    "    d_IRS_user = r   # Since I.R.S. is at origin\n",
    "    d_BS_user = np.linalg.norm(bs_loc - user_loc) # Distance between Base Station and User\n",
    "\n",
    "    ### k vector X,Y,Z from Azimuthal and Elevation\n",
    "    k_vec = lambda azi_an, ele_an : np.array(  [ np.cos(azi_an)*np.cos(ele_an), np.sin(azi_an)*np.cos(ele_an),np.sin(ele_an)])\n",
    "    # What is this a_irs?\n",
    "    a_irs = lambda azi_an, ele_an : np.transpose(np.exp( 1j * 2 * np.pi * (d_irs/lambd) * k_vec(azi_an, ele_an).reshape(1,3) @ u_irs ))\n",
    "    # x y z locations for BS antenas\n",
    "    u_bs = np.vstack( [ bs_loc[0] +  d_bs * np.arange(Nt) ,  bs_loc[1] * np.ones((1,Nt))   , bs_loc[2] * np.ones((1,Nt))  ]  )\n",
    "    a_bs = lambda azi_an, ele_an :  np.transpose(np.exp( 1j * 2 * np.pi * (d_bs/lambd) * k_vec(azi_an, ele_an).reshape(1,3) @ u_bs ))    \n",
    "   \n",
    "    max_power = max_power_vec\n",
    "    mu_hd_dB = AP_ant_gain_dB + user_ant_gain_dB + path_loss_dB(d_BS_user,eta_dL) - penetration_loss_dB\n",
    "    mu_hd = 10**(mu_hd_dB/10) \n",
    "    ### Direct Link\n",
    "    hd_link = np.sqrt(mu_hd/2) * ( np.random.randn(Nt,no_of_samples) + 1j *  np.random.randn(Nt,no_of_samples)  ) \n",
    "    #hd_norm_vec  =   np.sqrt(np.sum( np.abs(hd_link)**2  ,1))\n",
    "    \n",
    "    \n",
    "    mu_G_dB =  AP_ant_gain_dB + IRS_ant_gain_dB + path_loss_dB(d_BS_IRS,eta_irs) \n",
    "    mu_G = 10**(mu_G_dB/10)\n",
    "\n",
    "    ### BS To IRS\n",
    "    G_LOS =  np.sqrt(K_rf /(K_rf+1)) * np.sqrt(mu_G) *  a_bs(psi_bs,the_bs)  @ a_irs(psi_irs, the_irs).T \n",
    "    G_NLOS = (np.sqrt(1/(K_rf + 1)) * np.sqrt(mu_G/2)) *(sqrtR @ ( np.random.randn(no_of_samples,N,Nt) + 1j * np.random.randn(no_of_samples,N,Nt))).reshape(N,Nt,no_of_samples) \n",
    "    G_link = np.transpose(G_LOS).reshape((N,Nt,1)) + G_NLOS\n",
    "    \n",
    "    \n",
    "    mu_hr_dB =   IRS_ant_gain_dB + user_ant_gain_dB + path_loss_dB(d_IRS_user,eta_irs) - penetration_loss_dB;\n",
    "    mu_hr = 10**(mu_hr_dB/10);\n",
    "    ### IRS To User \n",
    "    hr_LOS = np.sqrt(mu_hr * K_rf  / (K_rf +1)) * a_irs(psi_irs_u, the_irs_u)    \n",
    "    hr_NLOS = np.sqrt(mu_hr/2/(K_rf +1)) *( (sqrtR) @ ( np.random.randn(N,no_of_samples) + 1j * np.random.randn(N,no_of_samples))).reshape(N,no_of_samples) \n",
    "    hr_link = hr_LOS  +  hr_NLOS\n",
    "    return np.concatenate([hd_link,G_link.reshape(N,no_of_samples)*hr_link])\n"
   ]
  },
  {
   "cell_type": "code",
   "execution_count": 17,
   "metadata": {},
   "outputs": [
    {
     "data": {
      "text/plain": [
       "(500, 101)"
      ]
     },
     "execution_count": 17,
     "metadata": {},
     "output_type": "execute_result"
    }
   ],
   "source": [
    "generate_channel_coeffs(10,-5,500).T.shape"
   ]
  },
  {
   "cell_type": "markdown",
   "metadata": {},
   "source": [
    "#### How to generate across frequencies ?"
   ]
  },
  {
   "cell_type": "code",
   "execution_count": 18,
   "metadata": {
    "cell_id": "00007-02d38a2a-f916-4354-84e6-19aa96507439",
    "deepnote_cell_type": "code",
    "deepnote_to_be_reexecuted": false,
    "execution_millis": 1,
    "execution_start": 1630145303641,
    "source_hash": "4cee5eb0",
    "tags": []
   },
   "outputs": [],
   "source": [
    "# get IRS configuration\n",
    "def get_config(method = None,M=2):\n",
    "    if method == None:\n",
    "        return np.exp(2j*np.random.randint(M,size=N_e)*np.pi/M)"
   ]
  },
  {
   "cell_type": "code",
   "execution_count": 19,
   "metadata": {
    "cell_id": "00008-1327b11a-2ffa-4e3c-bf37-c77777c88c88",
    "deepnote_cell_type": "code",
    "deepnote_to_be_reexecuted": false,
    "execution_millis": 0,
    "execution_start": 1630145304140,
    "source_hash": "4a2147ae",
    "tags": []
   },
   "outputs": [],
   "source": [
    "# calculate the datarate for the given configuration of IRS\n",
    "def calculate_datarate(H,x):\n",
    "    indi=np.log2(1+(np.square(np.abs(H)))*abs(np.square(x).sum())/10**-14)\n",
    "    return np.sum(indi)*10**6"
   ]
  },
  {
   "cell_type": "code",
   "execution_count": 177,
   "metadata": {
    "cell_id": "00009-fe324c95-528f-4aec-973c-9650403dd2b1",
    "deepnote_cell_type": "code",
    "deepnote_to_be_reexecuted": false,
    "execution_millis": 2,
    "execution_start": 1630145306376,
    "source_hash": "ddec2609",
    "tags": []
   },
   "outputs": [],
   "source": [
    "# vector method\n",
    "def angle_mapper(rads,M):\n",
    "    lis = (np.arange(M)/M)*2*np.pi\n",
    "    for i in range(len(lis)-1):\n",
    "        if lis[i]<rads and lis[i+1]>rads:\n",
    "            if (lis[i] - rads) < (lis[i+1] - rads):\n",
    "                return lis[i]\n",
    "            else:\n",
    "                return lis[i+1]\n",
    "    return lis[i+1]\n",
    "vec_angle_mapper = np.vectorize(angle_mapper)\n",
    "def return_coefficients(h_,opt,M=2):\n",
    "    rads = np.angle(opt/h_)\n",
    "    \n",
    "    rads[rads <  0] += np.pi * 2\n",
    "    angles = np.zeros(len(h_))\n",
    "\n",
    "    for i in range(len(rads)-1):\n",
    "        angles[i+1] = angle_mapper(rads[i],M) \n",
    "    angles[0] = 0\n",
    "    return np.exp(2j*angles*np.pi/M)\n",
    "\n",
    "def vector_heuristic(h,M=2):\n",
    "    h_ = h.sum(axis=0)\n",
    "    idx = np.argmax(np.abs(h_))\n",
    "\n",
    "    return return_coefficients(h_,h_[idx],M)"
   ]
  },
  {
   "cell_type": "code",
   "execution_count": 163,
   "metadata": {
    "cell_id": "00010-bf7b9ffe-4bc0-409d-aeb7-652548a05324",
    "deepnote_cell_type": "code",
    "deepnote_to_be_reexecuted": false,
    "execution_millis": 0,
    "execution_start": 1630145306584,
    "source_hash": "b623e53d",
    "tags": []
   },
   "outputs": [
    {
     "name": "stdout",
     "output_type": "stream",
     "text": [
      "3.141592653589793\n",
      "[4.71238898]\n",
      "4.71238898038469 [0.         1.57079633 3.14159265 4.71238898]\n",
      "[0.         4.71238898]\n"
     ]
    },
    {
     "data": {
      "text/plain": [
       "array([1.        +0.j        , 0.43656614+0.89967217j])"
      ]
     },
     "execution_count": 163,
     "metadata": {},
     "output_type": "execute_result"
    }
   ],
   "source": [
    "print(np.angle(-0.38428853/0.92321304))\n",
    "return_coefficients(np.array([0+1.1j]),np.ones(1),4)"
   ]
  },
  {
   "cell_type": "code",
   "execution_count": 21,
   "metadata": {
    "cell_id": "00012-0cc42f23-735a-44a1-be81-e7222559d1e5",
    "deepnote_cell_type": "code",
    "deepnote_to_be_reexecuted": false,
    "execution_millis": 9,
    "execution_start": 1630145306925,
    "source_hash": "ab982f7b",
    "tags": []
   },
   "outputs": [],
   "source": [
    "# Greedy approach\n",
    "def return_greedy_estimate(estimation,N_regions=100,M=2):\n",
    "    estimation_sum = estimation.sum(axis=0)\n",
    "    opt = np.exp(2j*np.asarray(range(M))*np.pi/M)\n",
    "    angles = np.ones((estimation_sum.shape[0],N_regions)).astype(complex)\n",
    "    for i in range(len(opt)):\n",
    "        angles[:,i] = return_coefficients(estimation_sum,opt[i],M)\n",
    "    abso=np.abs(np.matmul(angles.T,estimation_sum.reshape((-1,1))))\n",
    "    opt_angle=angles[:,np.where((angles[0,:]==1) &(abso==np.max(abso)))[0]][:,0].flatten()\n",
    "    return opt_angle"
   ]
  },
  {
   "cell_type": "code",
   "execution_count": 90,
   "metadata": {
    "cell_id": "00011-7392628c-4d8f-45c6-9ec6-0ec2ad7aa5d2",
    "deepnote_cell_type": "code",
    "deepnote_to_be_reexecuted": false,
    "execution_millis": 2,
    "execution_start": 1630145306937,
    "source_hash": "b0a52b2b",
    "tags": []
   },
   "outputs": [],
   "source": [
    "def strongest_tap(est,n_strong,N_e,K,L,N_regions=100,M=2):\n",
    "    time_h = np.fft.ifft(est,K,axis=0)[:L,:]\n",
    "    strongest_tap = np.argsort(np.abs(time_h),axis=0)[-1*n_strong:,:].reshape(N_e,n_strong)\n",
    "    top_time_h = np.zeros((n_strong,N_e),dtype=complex)\n",
    "    for i in range(N_e):\n",
    "        top_time_h[:,i] = time_h[strongest_tap[i],i]\n",
    "    h = np.fft.fft(top_time_h,500,axis=0) # FFT \n",
    "    theta = vector_heuristic(h,M) # Try out different stats\n",
    "    return theta"
   ]
  },
  {
   "cell_type": "code",
   "execution_count": 23,
   "metadata": {},
   "outputs": [],
   "source": [
    "def calculate_cascaded(H,Theta):\n",
    "    Theta = Theta.reshape((N_e+1,1))\n",
    "    G = H @ Theta ## Final  Channel across different subcarriers\n",
    "    return G    "
   ]
  },
  {
   "cell_type": "code",
   "execution_count": null,
   "metadata": {},
   "outputs": [],
   "source": []
  },
  {
   "cell_type": "code",
   "execution_count": 24,
   "metadata": {
    "cell_id": "00013-bea02996-2d26-4b7c-92fc-b76909a3b9e0",
    "deepnote_cell_type": "code",
    "deepnote_to_be_reexecuted": false,
    "execution_millis": 88,
    "execution_start": 1630145342152,
    "source_hash": "76fcada9",
    "tags": []
   },
   "outputs": [],
   "source": [
    "def return_rate_strongest_tap(H,N_e,K,L,sig,M=2):\n",
    "    Theta = strongest_tap(H,1,N_e+1,K,L,N_regions = 100,M = M)\n",
    "#     est,n_strong,N_e,K,L,N_regions=100,M=2\n",
    "    #Theta = vector_heuristic(H,M)\n",
    "    G = calculate_cascaded(H,Theta)\n",
    "    R = calculate_datarate(G,sig)\n",
    "    return R/10**8"
   ]
  },
  {
   "cell_type": "code",
   "execution_count": 25,
   "metadata": {},
   "outputs": [],
   "source": [
    "def return_rate_sca(H,N_e,K,L,sig):\n",
    "    a_init =  np.real(H[:,0]+(H[:,1:]@np.random.uniform(-1,1,size=(N_e,1))).sum(axis=1))\n",
    "    b_init = np.imag(H[:,0]+(H[:,1:]@np.random.uniform(-1,1,size=(N_e,1))).sum(axis=1))\n",
    "\n",
    "    f = lambda a,b: a_init**2 + b_init**2 + 2*cp.multiply(a_init,(a-a_init )) +2*cp.multiply(b_init,(b-b_init )) \n",
    "\n",
    "    yn = cp.Variable(K)\n",
    "    x = cp.Variable(N_e,complex = True)\n",
    "    tau = 1\n",
    "    sigma = 10**-20\n",
    "    a = cp.Variable(K) \n",
    "    b = cp.Variable(K)\n",
    "    objective = cp.sum(cp.log(1+yn))\n",
    "    objective = cp.Maximize(objective)\n",
    "    constraints = [cp.abs(x) <= 1,\n",
    "                   a == cp.real(H[:,0]+cp.sum(cp.multiply(cp.reshape(x,(1,N_e)),H[:,1:]),axis=1)),\n",
    "                   b == cp.imag(H[:,0]+cp.sum(cp.multiply(cp.reshape(x,(1,N_e)),H[:,1:]),axis=1)),\n",
    "                   yn <= cp.real(f(a,b)),]\n",
    "    prob = cp.Problem(objective, constraints)\n",
    "    result = prob.solve()\n",
    "    thetas = np.ones(N_e)\n",
    "    thetas[np.angle(x.value,deg= True)<0] = -1 \n",
    "    ThetaSDP = np.concatenate([[1],thetas])\n",
    "    G = calculate_cascaded(H,np.concatenate([[1],x.value]))\n",
    "    G = calculate_cascaded(H,ThetaSDP)\n",
    "    RSDP = calculate_datarate(G,sig)\n",
    "    return RSDP/10**8    "
   ]
  },
  {
   "cell_type": "markdown",
   "metadata": {},
   "source": [
    "#### Generate Coefficients"
   ]
  },
  {
   "cell_type": "markdown",
   "metadata": {},
   "source": [
    "Over the Number of Elements"
   ]
  },
  {
   "cell_type": "code",
   "execution_count": 91,
   "metadata": {},
   "outputs": [
    {
     "name": "stdout",
     "output_type": "stream",
     "text": [
      "0\n",
      "1\n",
      "2\n",
      "3\n"
     ]
    }
   ],
   "source": [
    "## Power Distribution over different subcarriers: \n",
    "K = 100\n",
    "L = 20\n",
    "n_iter = 10\n",
    "\n",
    "N_xs = [8,10,12,14]\n",
    "vector = np.zeros((4,n_iter,2))\n",
    "sca = np.zeros((4,n_iter,2))\n",
    "j = 0\n",
    "for N_x in N_xs: \n",
    "    N_e = N_x**2\n",
    "    for i in range(n_iter):\n",
    "        H = generate_channel_coeffs(N_x,-5,K).T\n",
    "        IRS_config = get_config()\n",
    "        Direct = np.ones(1).astype(np.complex128)\n",
    "        Theta = np.concatenate((Direct,IRS_config)).reshape((N_e+1,1))\n",
    "        G = H @ Theta \n",
    "        P = np.random.dirichlet(np.ones(K),size=1)\n",
    "        P_max = 10 ## Power Budget in mW\n",
    "        ## Symbol to be sent of 1mW\n",
    "        s = 1e-3 * P_max\n",
    "        w = G.copy()/(np.linalg.norm(s)*np.linalg.norm(G)) # Precoding Vector\n",
    "        sig  = w*s # Final Symbol Transmitted\n",
    "        sig = sig * P.T\n",
    "        t = time.process_time()\n",
    "        R = return_rate_strongest_tap(H,N_e,K,L,sig)\n",
    "        vector[j][i] = time.process_time()-t,R\n",
    "        t = time.process_time()\n",
    "        R = return_rate_sca(H,N_e,K,L,sig)\n",
    "        sca[j][i] = time.process_time()-t,R\n",
    "    print(j)\n",
    "    j += 1"
   ]
  },
  {
   "cell_type": "code",
   "execution_count": null,
   "metadata": {},
   "outputs": [],
   "source": []
  },
  {
   "cell_type": "markdown",
   "metadata": {},
   "source": [
    "Over the Number of Subcarriers"
   ]
  },
  {
   "cell_type": "code",
   "execution_count": null,
   "metadata": {},
   "outputs": [],
   "source": [
    "## Power Distribution over different subcarriers: \n",
    "K = 500\n",
    "L = 20\n",
    "n_iter = 10\n",
    "\n",
    "K_s = [10,100,1000]\n",
    "vector_sub = np.zeros((3,n_iter,2))\n",
    "sca_sub = np.zeros((3,n_iter,2))\n",
    "j = 0\n",
    "for K in K_s: \n",
    "    N_x = 8\n",
    "    N_e = N_x**2\n",
    "    for i in range(n_iter):\n",
    "        H = generate_channel_coeffs(N_x,-5,K).T\n",
    "        IRS_config = get_config()\n",
    "        Direct = np.ones(1).astype(np.complex128)\n",
    "        Theta = np.concatenate((Direct,IRS_config)).reshape((N_e+1,1))\n",
    "        G = H @ Theta \n",
    "        P = np.random.dirichlet(np.ones(K),size=1)\n",
    "        P_max = 10 ## Power Budget in mW\n",
    "        ## Symbol to be sent of 1mW\n",
    "        s = 1e-3 * P_max\n",
    "        w = G.copy()/(np.linalg.norm(s)*np.linalg.norm(G)) # Precoding Vector\n",
    "        sig  = w*s # Final Symbol Transmitted\n",
    "        sig = sig * P.T\n",
    "        t = time.process_time()\n",
    "        R = return_rate_strongest_tap(H,N_e,K,L,sig)\n",
    "        vector_sub[j][i] = time.process_time()-t,R\n",
    "        t = time.process_time()\n",
    "        R = return_rate_sca(H,N_e,K,L,sig)\n",
    "        sca_sub[j][i] = time.process_time()-t,R\n",
    "    print(j)\n",
    "    j += 1"
   ]
  },
  {
   "cell_type": "markdown",
   "metadata": {},
   "source": [
    "Over the Location Of Users"
   ]
  },
  {
   "cell_type": "code",
   "execution_count": 97,
   "metadata": {},
   "outputs": [
    {
     "name": "stdout",
     "output_type": "stream",
     "text": [
      "0\n",
      "1\n",
      "2\n",
      "3\n",
      "4\n"
     ]
    }
   ],
   "source": [
    "## Power Distribution over different subcarriers: \n",
    "K = 500\n",
    "L = 20\n",
    "n_iter = 1\n",
    "\n",
    "Locs = [-9,-7,-5,-3,-1]\n",
    "vector_user = np.zeros((5,n_iter,2))\n",
    "\n",
    "vector_user1 = np.zeros((5,n_iter,2))\n",
    "vector_user2 = np.zeros((5,n_iter,2))\n",
    "\n",
    "sca_user = np.zeros((5,n_iter,2))\n",
    "\n",
    "j = 0\n",
    "for loc in Locs: \n",
    "    N_x = 14\n",
    "    N_e = N_x**2\n",
    "    for i in range(n_iter):\n",
    "        H = generate_channel_coeffs(N_x,loc,K).T\n",
    "        IRS_config = get_config()\n",
    "        Direct = np.ones(1).astype(np.complex128)\n",
    "        Theta = np.concatenate((Direct,IRS_config)).reshape((N_e+1,1))\n",
    "        G = H @ Theta \n",
    "        P = np.ones(1) #np.random.dirichlet(np.ones(K),size=1)\n",
    "        P_max = 10 ## Power Budget in mW\n",
    "        ## Symbol to be sent of 1mW\n",
    "        s = 1e-3 * P_max\n",
    "        #w = G.copy()/(np.linalg.norm(s)*np.linalg.norm(G)) # Precoding Vector\n",
    "        sig  = w*s # Final Symbol Transmitted\n",
    "        sig = sig * P.T\n",
    "        t = time.process_time()\n",
    "        R = return_rate_strongest_tap(H,N_e,K,L,sig,2)\n",
    "        vector_user[j][i] = time.process_time()-t,R\n",
    "        \n",
    "        t = time.process_time()\n",
    "        R = return_rate_sca(H,N_e,K,L,sig)\n",
    "        sca_user[j][i] = time.process_time()-t,R\n",
    "    print(j)\n",
    "    j += 1"
   ]
  },
  {
   "cell_type": "markdown",
   "metadata": {},
   "source": [
    "### Visualization"
   ]
  },
  {
   "cell_type": "code",
   "execution_count": 175,
   "metadata": {},
   "outputs": [],
   "source": [
    "H = generate_channel_coeffs(8,-1,100).T"
   ]
  },
  {
   "cell_type": "code",
   "execution_count": 190,
   "metadata": {},
   "outputs": [],
   "source": [
    "time_h = np.fft.ifft(H,K,axis=0)[:L,:]\n",
    "strongest_tap = np.argsort(np.abs(time_h),axis=0)[-1*1:,:].reshape(65,1)\n",
    "top_time_h = np.zeros((1,65),dtype=complex)\n",
    "for i in range(65):\n",
    "    top_time_h[:,i] = time_h[strongest_tap[i],i]\n",
    "h = np.fft.fft(top_time_h,500,axis=0) # FFT \n",
    "\n",
    "theta = return_greedy_estimate(h,50,M=8) # Try out different stats\n"
   ]
  },
  {
   "cell_type": "code",
   "execution_count": 191,
   "metadata": {},
   "outputs": [
    {
     "data": {
      "text/plain": [
       "array([-5.93172940e-04+4.54198396e-04j,  1.47205843e-04+4.41148876e-04j,\n",
       "        4.90984543e-04+3.10675485e-05j,  9.69829875e-05+4.66112313e-04j,\n",
       "       -4.26856373e-04+1.35077490e-04j, -2.58583434e-04-4.08462930e-04j,\n",
       "        3.39157783e-04-3.04592343e-04j,  3.23134789e-04+2.98955075e-04j,\n",
       "       -2.48779870e-04+3.86386133e-04j, -4.36246552e-04-1.80568034e-04j,\n",
       "       -3.24534234e-04+3.41762368e-04j, -4.12991459e-04-2.60856644e-04j,\n",
       "        1.37119140e-04-4.48684649e-04j,  4.58724880e-04+1.12354993e-04j,\n",
       "       -3.95579921e-05+4.63336783e-04j, -4.78395652e-04+5.23574413e-05j,\n",
       "       -1.25181284e-04-4.77699011e-04j,  4.02264014e-04-1.67718862e-04j,\n",
       "       -6.49016434e-05-4.81190826e-04j,  4.43883742e-04-1.55725911e-04j,\n",
       "        2.37512259e-04+4.12310169e-04j, -3.74230196e-04+2.57502619e-04j,\n",
       "       -4.03972181e-04-3.33249870e-04j,  2.74662142e-04-4.04977223e-04j,\n",
       "        4.49276429e-04+2.15146056e-04j, -1.49605370e-04+4.88760011e-04j,\n",
       "        4.00417747e-04+2.27884061e-04j, -1.94466999e-04+4.17109043e-04j,\n",
       "       -5.06988384e-04-9.91816295e-05j, -4.04062074e-06-5.11276053e-04j,\n",
       "        4.37398676e-04-5.49405472e-05j,  1.45932147e-04+4.33262719e-04j,\n",
       "       -4.40154178e-04+2.42292453e-04j, -2.66507992e-04-4.27981393e-04j,\n",
       "       -4.55437017e-04+1.25063698e-04j, -2.19583767e-04-4.04807233e-04j,\n",
       "        3.83124963e-04-3.18024812e-04j,  3.28292878e-04+2.75914098e-04j,\n",
       "       -2.49330263e-04+3.87892472e-04j, -4.18734182e-04-1.78345323e-04j,\n",
       "        1.08570486e-04-4.43929364e-04j,  4.57798539e-04+5.84769446e-05j,\n",
       "        1.65814474e-04-4.45284195e-04j,  4.33457861e-04+6.36493626e-05j,\n",
       "       -3.46167250e-05+4.44381170e-04j, -4.21604602e-04+5.50121856e-05j,\n",
       "       -1.14397223e-04-4.47138656e-04j,  4.22356428e-04-2.03589783e-04j,\n",
       "        2.81112032e-04+4.22316819e-04j, -3.34572544e-04+3.32846368e-04j,\n",
       "        2.24540620e-04+3.90612306e-04j, -3.58237905e-04+2.83160127e-04j,\n",
       "       -3.87154027e-04-3.25901782e-04j,  2.76724026e-04-3.91238812e-04j,\n",
       "        4.55123816e-04+1.99846853e-04j, -1.16669312e-04+4.63871772e-04j,\n",
       "       -4.36827420e-04-5.82004082e-05j, -2.74956309e-05-4.66457534e-04j,\n",
       "       -4.51668135e-04-8.79189559e-05j,  2.45540929e-05-5.00604290e-04j,\n",
       "        4.76082320e-04-6.44768479e-05j,  1.28331103e-04+4.61188771e-04j,\n",
       "       -4.21122224e-04+2.03778457e-04j, -2.62063617e-04-4.00700858e-04j,\n",
       "        3.52042299e-04-3.33864556e-04j])"
      ]
     },
     "execution_count": 191,
     "metadata": {},
     "output_type": "execute_result"
    }
   ],
   "source": [
    "J"
   ]
  },
  {
   "cell_type": "code",
   "execution_count": 192,
   "metadata": {},
   "outputs": [
    {
     "data": {
      "text/plain": [
       "<matplotlib.legend.Legend at 0x7f9570f10650>"
      ]
     },
     "execution_count": 192,
     "metadata": {},
     "output_type": "execute_result"
    },
    {
     "data": {
      "image/png": "[encoded data removed]",
      "text/plain": [
       "<Figure size 432x288 with 1 Axes>"
      ]
     },
     "metadata": {
      "needs_background": "light"
     },
     "output_type": "display_data"
    }
   ],
   "source": [
    "J = h.sum(axis = 0)\n",
    "plt.scatter((J).real,(J).imag,label='prev')\n",
    "\n",
    "plt.scatter((theta*J).real,(theta*J).imag)\n",
    "plt.scatter(0,0)\n",
    "plt.legend()"
   ]
  },
  {
   "cell_type": "code",
   "execution_count": 51,
   "metadata": {},
   "outputs": [
    {
     "data": {
      "text/plain": [
       "((65,), (65,))"
      ]
     },
     "execution_count": 51,
     "metadata": {},
     "output_type": "execute_result"
    }
   ],
   "source": [
    "Theta.shape,H[0,:].shape"
   ]
  },
  {
   "cell_type": "code",
   "execution_count": 56,
   "metadata": {},
   "outputs": [
    {
     "data": {
      "text/plain": [
       "<matplotlib.collections.PathCollection at 0x7f95786b5190>"
      ]
     },
     "execution_count": 56,
     "metadata": {},
     "output_type": "execute_result"
    },
    {
     "data": {
      "image/png": "[encoded data removed]",
      "text/plain": [
       "<Figure size 432x288 with 1 Axes>"
      ]
     },
     "metadata": {
      "needs_background": "light"
     },
     "output_type": "display_data"
    }
   ],
   "source": []
  },
  {
   "cell_type": "code",
   "execution_count": null,
   "metadata": {},
   "outputs": [],
   "source": [
    "plt.scatter(*zip(*sca.mean(axis = 1)),label=\"SCA_vectorinit\",marker=\"x\")\n",
    "plt.scatter(*zip(*vector.mean(axis = 1)),label=\"Vector\")\n",
    "plt.legend()\n",
    "for i, txt in enumerate(N_xs):\n",
    "    plt.annotate(txt, (sca.mean(axis = 1)[i][0]+0.3, sca.mean(axis = 1)[i][1]))\n",
    "    plt.annotate(txt, (vector.mean(axis = 1)[i][0]+0.001, vector.mean(axis = 1)[i][1]))\n",
    "plt.title(\"Data Rate v/s Time Taken for different algorithm with varying number of IRS Elements\")\n",
    "plt.ylabel(\"Data Rate obtained\")\n",
    "plt.xlabel(\"Time taken for algorithm to run (log scale)\")\n",
    "plt.xscale(\"log\")"
   ]
  },
  {
   "cell_type": "code",
   "execution_count": null,
   "metadata": {},
   "outputs": [],
   "source": [
    "plt.scatter(*zip(*sca_sub.mean(axis = 1)),label=\"SCA_vectorinit\",marker=\"x\")\n",
    "plt.scatter(*zip(*vector_sub.mean(axis = 1)),label=\"Vector\")\n",
    "plt.legend()\n",
    "for i, txt in enumerate(K_s):\n",
    "    plt.annotate(txt, (sca_sub.mean(axis = 1)[i][0]+0.03, sca_sub.mean(axis = 1)[i][1]))\n",
    "    plt.annotate(txt, (vector_sub.mean(axis = 1)[i][0]+0.001, vector_sub.mean(axis = 1)[i][1]))\n",
    "plt.title(\"Data Rate v/s Time Taken for different algorithm with varying number of Sub Carriers\")\n",
    "plt.ylabel(\"Data Rate obtained\")\n",
    "plt.xlabel(\"Time taken for algorithm to run (log scale)\")\n",
    "plt.xscale(\"log\")"
   ]
  },
  {
   "cell_type": "code",
   "execution_count": 103,
   "metadata": {},
   "outputs": [
    {
     "data": {
      "image/png": "[encoded data removed]",
      "text/plain": [
       "<Figure size 432x288 with 1 Axes>"
      ]
     },
     "metadata": {
      "needs_background": "light"
     },
     "output_type": "display_data"
    }
   ],
   "source": [
    "plt.scatter(*zip(*sca_user.mean(axis = 1)),label=\"SCA_vectorinit\",marker=\"x\")\n",
    "plt.scatter(*zip(*vector_user.mean(axis = 1)),label=\"Vector\")\n",
    "plt.legend()\n",
    "for i, txt in enumerate(Locs):\n",
    "    plt.annotate(txt, (sca_user.mean(axis = 1)[i][0]+0.3, sca_user.mean(axis = 1)[i][1]))\n",
    "    plt.annotate(txt, (vector_user.mean(axis = 1)[i][0]+0.001, vector_user.mean(axis = 1)[i][1]))\n",
    "plt.title(\"Data Rate v/s Time Taken for different algorithm with varying number of \")\n",
    "plt.ylabel(\"Data Rate obtained\")\n",
    "plt.xlabel(\"Time taken for algorithm to run (log scale)\")\n",
    "plt.xscale(\"log\")"
   ]
  },
  {
   "cell_type": "code",
   "execution_count": 98,
   "metadata": {},
   "outputs": [
    {
     "data": {
      "text/plain": [
       "Text(0.5, 0, 'Location of User')"
      ]
     },
     "execution_count": 98,
     "metadata": {},
     "output_type": "execute_result"
    },
    {
     "data": {
      "image/png": "[encoded data removed]",
      "text/plain": [
       "<Figure size 432x288 with 1 Axes>"
      ]
     },
     "metadata": {
      "needs_background": "light"
     },
     "output_type": "display_data"
    }
   ],
   "source": [
    "plt.scatter(Locs,sca_user[:,:,0].mean(1))\n",
    "plt.scatter(Locs,vector_user[:,:,0].mean(1))\n",
    "plt.title(\"Time Taken v/s different locations\")\n",
    "plt.ylabel(\"Time taken for algorithm to run\")\n",
    "plt.xlabel(\"Location of User\")\n"
   ]
  },
  {
   "cell_type": "code",
   "execution_count": 102,
   "metadata": {},
   "outputs": [
    {
     "data": {
      "text/plain": [
       "Text(0.5, 0, 'Location of User')"
      ]
     },
     "execution_count": 102,
     "metadata": {},
     "output_type": "execute_result"
    },
    {
     "data": {
      "image/png": "[encoded data removed]",
      "text/plain": [
       "<Figure size 432x288 with 1 Axes>"
      ]
     },
     "metadata": {
      "needs_background": "light"
     },
     "output_type": "display_data"
    }
   ],
   "source": [
    "plt.scatter(Locs,sca_user[:,:,1].mean(1),label=\"SCA\")\n",
    "plt.scatter(Locs,vector_user[:,:,1].mean(1),label=\"Our\")\n",
    "# plt.scatter(Locs,vector_user1[:,:,1].mean(1),label=\"4\")\n",
    "# plt.scatter(Locs,vector_user2[:,:,1].mean(1),label=\"16\")\n",
    "plt.legend()\n",
    "plt.title(\"Data Rate v/s different locations\")\n",
    "plt.ylabel(\"Data Rate Obtained\")\n",
    "plt.xlabel(\"Location of User\")"
   ]
  },
  {
   "cell_type": "markdown",
   "metadata": {},
   "source": [
    ".............................................................................................\n",
    "\\#### Method 1: SCA"
   ]
  },
  {
   "cell_type": "markdown",
   "metadata": {},
   "source": [
    "#### Method 2: Vector Heuristic"
   ]
  },
  {
   "cell_type": "markdown",
   "metadata": {},
   "source": [
    "#### Method 3: Benchmarking using Cross entropy"
   ]
  },
  {
   "cell_type": "markdown",
   "metadata": {},
   "source": [
    "#### Visualisations"
   ]
  },
  {
   "cell_type": "code",
   "execution_count": 113,
   "metadata": {},
   "outputs": [
    {
     "data": {
      "text/plain": [
       "array([[5.77766224, 4.11035448, 6.27587723, 3.66205272, 6.06721597,\n",
       "        5.91536721, 6.00767456, 2.83748819, 5.91314087, 4.44366056],\n",
       "       [5.25493288, 5.42803469, 5.27880515, 5.21810706, 2.52439869,\n",
       "        5.08205905, 5.24328195, 3.55735499, 5.20976769, 5.79886712],\n",
       "       [5.33915148, 2.20726087, 5.14162837, 5.25724323, 3.40243798,\n",
       "        5.11255186, 5.25691222, 3.92666702, 5.2728495 , 3.78886058],\n",
       "       [4.49213975, 2.93134038, 1.96559866, 2.37919699, 1.97924718,\n",
       "        5.4362585 , 3.60388143, 2.24590508, 2.26348392, 2.24502613],\n",
       "       [1.70279897, 1.47392991, 1.7268783 , 1.92082867, 1.73157006,\n",
       "        2.05473564, 1.75768751, 1.78373006, 1.66282134, 1.63778099]])"
      ]
     },
     "execution_count": 113,
     "metadata": {},
     "output_type": "execute_result"
    }
   ],
   "source": [
    "sca_user[:,:,0]"
   ]
  },
  {
   "cell_type": "code",
   "execution_count": null,
   "metadata": {},
   "outputs": [],
   "source": []
  }
 ],
 "metadata": {
  "kernelspec": {
   "display_name": "Python 3",
   "language": "python",
   "name": "python3"
  },
  "language_info": {
   "codemirror_mode": {
    "name": "ipython",
    "version": 3
   },
   "file_extension": ".py",
   "mimetype": "text/x-python",
   "name": "python",
   "nbconvert_exporter": "python",
   "pygments_lexer": "ipython3",
   "version": "3.7.6"
  }
 },
 "nbformat": 4,
 "nbformat_minor": 4
}
