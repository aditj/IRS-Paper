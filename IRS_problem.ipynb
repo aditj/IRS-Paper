{
 "cells": [
  {
   "cell_type": "markdown",
   "source": "<a href=\"https://colab.research.google.com/github/aditj/IRS-Paper/blob/master/IRS_problem.ipynb\" target=\"_parent\"><img src=\"https://colab.research.google.com/assets/colab-badge.svg\" alt=\"Open In Colab\"/></a>",
   "metadata": {
    "id": "view-in-github",
    "colab_type": "text",
    "cell_id": "00000-8913e927-53ef-4039-bacd-341ba4617902",
    "deepnote_cell_type": "markdown"
   }
  },
  {
   "cell_type": "markdown",
   "source": "## Import Libraries",
   "metadata": {
    "tags": [],
    "cell_id": "00001-9d5dc261-db07-4104-bdc0-c75da12d5eb6",
    "deepnote_cell_type": "markdown"
   }
  },
  {
   "cell_type": "code",
   "metadata": {
    "id": "05956a2f",
    "cell_id": "00001-e0bf68ba-2d29-4663-a984-9679492bae1e",
    "deepnote_to_be_reexecuted": false,
    "source_hash": "67b21047",
    "execution_start": 1628650100997,
    "execution_millis": 1667,
    "deepnote_cell_type": "code"
   },
   "source": "# helper\nfrom functools import wraps\nimport time\n\n# math\nimport numpy as np\nimport scipy.io\nimport math\n\n#plotting\nimport matplotlib.pyplot as plt",
   "execution_count": null,
   "outputs": []
  },
  {
   "cell_type": "markdown",
   "source": "## Helper Functions",
   "metadata": {
    "tags": [],
    "cell_id": "00003-114478db-4031-4b8d-b37f-305e45672a1f",
    "deepnote_cell_type": "markdown"
   }
  },
  {
   "cell_type": "markdown",
   "source": "We can sample the Channel coefficients from a rician distribution with parameters $\\beta$ and $K$. $\\mathbf{h_d}$ is constant and $\\mathbf{h_s}$ is sampled form a circularly symmetric standard Complex Gaussian  \n$$\\mathbf{h} = \\sqrt{\\frac{\\beta K}{1+K}} \\mathbf{h_d} + \\sqrt{\\frac{\\beta }{1+K}} \\mathbf{h_s}$$",
   "metadata": {
    "tags": [],
    "cell_id": "00004-01f0e169-20d6-4aa6-afa9-3b4b6a43e1fd",
    "deepnote_cell_type": "markdown"
   }
  },
  {
   "cell_type": "code",
   "metadata": {
    "tags": [],
    "cell_id": "00003-171853dc-6486-4005-881b-22ed55792288",
    "deepnote_to_be_reexecuted": false,
    "source_hash": "bded27b8",
    "execution_start": 1628652548293,
    "execution_millis": 5,
    "allow_embed": "code_output",
    "deepnote_cell_type": "code"
   },
   "source": "# get the channel coefficients from the rician distribution\ndef rician(beta,k,h_d=0 ,num_carriers=500,num_channels=1):\n    \"\"\"\n    returns a (num_carriers x num_channels) matrix with complex numbers whose magnitude would follow a rician distribution \n    beta is a distance dependent path loss parameter \n    K is ratio of deterministic to scattered power\n    \"\"\"\n    det = math.sqrt(beta*k/(1+k))* h_d\n    det = np.tile(det,(1,num_carriers)).T\n    ran = math.sqrt(beta/((1+k)*2)) * np.random.randn(num_carriers, num_channels*2).view(np.complex128)\n    return ran+det",
   "execution_count": null,
   "outputs": []
  },
  {
   "cell_type": "code",
   "metadata": {
    "tags": [],
    "cell_id": "00006-64b6772e-1b92-42d9-9452-9576a9f48827",
    "deepnote_to_be_reexecuted": false,
    "source_hash": "251d16b6",
    "execution_start": 1628651588501,
    "execution_millis": 0,
    "deepnote_cell_type": "code"
   },
   "source": "def theta_direct(N,phi=np.pi/3,d=0.06): \n    # What does phi mean again\n    return 2*np.pi*d* np.arange(1,N+1)*np.cos(phi)\n    \ndef theta_reflector(Nx,Ny,phi=np.pi/3,d=0.06/4): \n    # Nx = Number of columns in IRS\n    # Ny = Number of rows\n    # What is the significance of Phi here?\n    yv,xv=np.meshgrid(np.arange(Nx),np.arange(Ny), sparse=False, indexing='ij')\n    dist=np.sqrt(xv**2+yv**2)\n    return 2 * np.pi * d * dist * np.cos(phi)\n\ndef generate_deterministic_direct(antenna_gains):\n    \n    alphas=np.sqrt(antenna_gains)\n    return np.exp(1j*theta_direct(antenna_gains.shape[0]))*alphas\n\ndef generate_deterministic_reflectors(antenna_gains):\n    alphas=np.sqrt(antenna_gains)\n    return np.exp(1j*theta_reflector(antenna_gains.shape[0],antenna_gains.shape[1]))*alphas\n",
   "execution_count": null,
   "outputs": []
  },
  {
   "cell_type": "code",
   "metadata": {
    "tags": [],
    "cell_id": "00007-dac19e8c-3542-4e75-8b28-ed8251ef6ea8",
    "deepnote_to_be_reexecuted": false,
    "source_hash": "14befdee",
    "execution_start": 1628651746950,
    "execution_millis": 8,
    "deepnote_cell_type": "code"
   },
   "source": "generate_deterministic_direct(np.ones(1))\ngenerate_deterministic_direct(np.ones(1))\n",
   "execution_count": null,
   "outputs": [
    {
     "output_type": "execute_result",
     "execution_count": 20,
     "data": {
      "text/plain": "(16, 16)"
     },
     "metadata": {}
    }
   ]
  },
  {
   "cell_type": "code",
   "metadata": {
    "tags": [],
    "cell_id": "00006-303be4fa-3cd4-4df2-9c55-b55836231993",
    "deepnote_to_be_reexecuted": false,
    "source_hash": "4eb2fd39",
    "execution_start": 1628650233649,
    "execution_millis": 2,
    "deepnote_cell_type": "code"
   },
   "source": "# we can append @timer to each of our function for which we want to have the time printed\ndef timer(func):\n    \"\"\"\n    Usage:\n    @timer\n    def somefunc(a,b):\n        output = a+b\n        return output\n    \"\"\"\n    @wraps(func)\n    def wrapper(*args,**kwargs):\n        print(f\"{func.__name__!r} begins\")\n        start_time = time.time()\n        result = func(*args,**kwargs)\n        print(f\"{func.__name__!r} ends in {time.time()-start_time} secs\")\n        return result\n    return wrapper",
   "execution_count": null,
   "outputs": []
  },
  {
   "cell_type": "code",
   "metadata": {
    "tags": [],
    "cell_id": "00007-02d38a2a-f916-4354-84e6-19aa96507439",
    "deepnote_to_be_reexecuted": false,
    "source_hash": "4cee5eb0",
    "execution_start": 1628650234275,
    "execution_millis": 2,
    "deepnote_cell_type": "code"
   },
   "source": "# get IRS configuration\ndef get_config(method = None):\n    if method == None:\n        return np.exp(2j*np.random.randint(M,size=N_e)*np.pi/M)",
   "execution_count": null,
   "outputs": []
  },
  {
   "cell_type": "code",
   "metadata": {
    "tags": [],
    "cell_id": "00008-1327b11a-2ffa-4e3c-bf37-c77777c88c88",
    "deepnote_to_be_reexecuted": false,
    "source_hash": "4a2147ae",
    "execution_start": 1628650234926,
    "execution_millis": 2,
    "deepnote_cell_type": "code"
   },
   "source": "# calculate the datarate for the given configuration of IRS\ndef calculate_datarate(H,x):\n    indi=np.log2(1+(np.square(np.abs(H)))*abs(np.square(x).sum())/10**-14)\n    return np.sum(indi)*10**6",
   "execution_count": null,
   "outputs": []
  },
  {
   "cell_type": "code",
   "metadata": {
    "tags": [],
    "cell_id": "00009-fe324c95-528f-4aec-973c-9650403dd2b1",
    "deepnote_to_be_reexecuted": false,
    "source_hash": "ddec2609",
    "execution_start": 1628650236616,
    "execution_millis": 3,
    "deepnote_cell_type": "code"
   },
   "source": "# vector method\ndef return_coefficients(h_,opt,M=2):\n    angles = M - np.round((np.angle(opt/h_)*M/(2*np.pi))%np.pi)\n    angles[0] = 0\n    return np.exp(2j*angles*np.pi/M)\n\ndef vector_heuristic(h,M=2):\n    h_ = h.sum(axis=0)\n    idx = np.argmax(np.abs(h_))\n\n    return return_coefficients(h_,h_[idx],M)",
   "execution_count": null,
   "outputs": []
  },
  {
   "cell_type": "code",
   "metadata": {
    "tags": [],
    "cell_id": "00010-bf7b9ffe-4bc0-409d-aeb7-652548a05324",
    "deepnote_to_be_reexecuted": false,
    "source_hash": "57a49516",
    "execution_start": 1628650237836,
    "execution_millis": 4,
    "deepnote_cell_type": "code"
   },
   "source": "#Greedy approach",
   "execution_count": null,
   "outputs": []
  },
  {
   "cell_type": "code",
   "metadata": {
    "tags": [],
    "cell_id": "00012-0cc42f23-735a-44a1-be81-e7222559d1e5",
    "deepnote_to_be_reexecuted": false,
    "source_hash": "ed08535",
    "execution_start": 1628650238239,
    "execution_millis": 9,
    "deepnote_cell_type": "code"
   },
   "source": "def return_greedy_estimate(estimation,N_regions=4,M=2):\n    estimation_sum = estimation.sum(axis=0)\n    opt = np.exp(2j*np.asarray(range(M))*np.pi/M)\n    angles = np.ones((estimation_sum.shape[0],N_regions)).astype(complex)\n    for i in range(len(opt)):\n        angles[:,i] = return_coefficients(estimation_sum,opt[i],M)\n    abso=np.abs(np.matmul(angles.T,estimation_sum.reshape((-1,1))))\n    opt_angle=angles[:,np.where((angles[0,:]==1) &(abso==np.max(abso)))[0]][:,0].flatten()\n    return opt_angle",
   "execution_count": null,
   "outputs": []
  },
  {
   "cell_type": "code",
   "metadata": {
    "tags": [],
    "cell_id": "00011-7392628c-4d8f-45c6-9ec6-0ec2ad7aa5d2",
    "deepnote_to_be_reexecuted": false,
    "source_hash": "81239647",
    "execution_start": 1628653112172,
    "execution_millis": 0,
    "deepnote_cell_type": "code"
   },
   "source": "def strongest_tap(est,n_strong,N_e,K,L,N_regions=40,M=2):\n    time_h = np.fft.ifft(est,K,axis=0)[:L,:]\n    strongest_tap = np.argsort(np.abs(time_h),axis=0)[-1*n_strong:,:].reshape(N_e,n_strong)\n    top_time_h = np.zeros((n_strong,N_e),dtype=complex)\n    for i in range(N_e):\n        top_time_h[:,i] = time_h[strongest_tap[i],i]\n    h = np.fft.fft(top_time_h,500,axis=0) # FFT \n    theta = return_greedy_estimate(h,N_regions,M) # Try out different stats\n    return theta",
   "execution_count": null,
   "outputs": []
  },
  {
   "cell_type": "markdown",
   "source": "## System Parameters",
   "metadata": {
    "tags": [],
    "cell_id": "00003-c86c4a7a-3758-4347-ba21-eb3971be04d6",
    "deepnote_cell_type": "markdown"
   }
  },
  {
   "cell_type": "code",
   "metadata": {
    "id": "54042b25",
    "cell_id": "00002-b096217c-c1bb-422a-ae5f-e97a52a2f231",
    "deepnote_to_be_reexecuted": false,
    "source_hash": "e7be883c",
    "execution_start": 1628652239968,
    "execution_millis": 1,
    "deepnote_cell_type": "code"
   },
   "source": "# General parameters\nK = 500 # sub carriers\nL = 20 # taps\n\nM = 2 #Num of discrete phase-shifts\nN_x = 16\nN_y = 16\nN_e = N_x * N_y #Number of IRS elements\n\n# Channel information\n#direct channel\nbeta_d = (10)**-3 * (10)**-3\nk_d = 0\nconst_d = 0\n#BS to IRS channel\nbeta_bi =  (10)**-3 * (1.5)**-3\nk_bi = 1\nconst_bi = 0\n#IRS to User channel\nbeta_iu =  (10)**-3 * (8)**-3\nk_iu = 1\nconst_iu = 0",
   "execution_count": null,
   "outputs": []
  },
  {
   "cell_type": "markdown",
   "source": "## Declaring variables",
   "metadata": {
    "tags": [],
    "cell_id": "00008-800b3d19-6700-4e20-b2e4-b650e4cfea05",
    "deepnote_cell_type": "markdown"
   }
  },
  {
   "cell_type": "code",
   "metadata": {
    "id": "ea2dd832",
    "cell_id": "00003-d3b3a50e-4ae4-41b5-83fa-a88978f04eb8",
    "deepnote_to_be_reexecuted": false,
    "source_hash": "e035831b",
    "execution_start": 1628652551840,
    "execution_millis": 0,
    "deepnote_cell_type": "code"
   },
   "source": "det = generate_deterministic_reflectors(np.ones((N_x,N_y))).reshape((N_e,1))\ndet_direct = generate_deterministic_direct(np.ones(1))[0]\n# CSI\n\nH_d = rician(beta=beta_d, k=k_d,num_carriers=K,h_d=det_direct)\nH_bi = rician(beta=beta_bi,k=k_bi,num_carriers=K,num_channels=N_e,h_d=det)\nH_iu = rician(beta=beta_iu,k=k_iu,num_carriers=K,num_channels=N_e,h_d=det)\n\n## Theta\n\nIRS_config = get_config()\nDirect = np.ones(1).astype(np.complex128)\nTheta = np.concatenate((Direct,IRS_config)).reshape((N_e+1,1))\n\n\n## Final channel\n\nH_id = np.multiply(H_bi,H_iu)\nH = np.concatenate((H_d,H_id), axis=1)\nG_comp = H * Theta.T ## Channel Across different subcarriers and subchannels\nG = H @ Theta ## Final  Channel across different subcarriers\n\ndef calculate_cascaded(H,Theta):\n    Theta = Theta.reshape((N_e+1,1))\n    G = H @ Theta ## Final  Channel across different subcarriers\n    return G    \n\n\n\n",
   "execution_count": null,
   "outputs": []
  },
  {
   "cell_type": "markdown",
   "source": "## Creating Signal ",
   "metadata": {
    "tags": [],
    "is_collapsed": false,
    "cell_id": "00011-2489a3bf-d091-443e-9a47-b0e7192aeaf0",
    "deepnote_cell_type": "text-cell-h2"
   }
  },
  {
   "cell_type": "code",
   "metadata": {
    "tags": [],
    "cell_id": "00011-083c05d6-00c0-49b0-ac5a-2f7ecb4837f7",
    "deepnote_to_be_reexecuted": false,
    "source_hash": "b68dab1e",
    "execution_start": 1628652560865,
    "execution_millis": 4,
    "deepnote_cell_type": "code"
   },
   "source": "## Power Distribution over different subcarriers: \nP = np.random.dirichlet(np.ones(K),size=1)\nP_max = 10 ## Power Budget in mW\n## Symbol to be sent of 1mW\ns = 1e-3 * P_max\nw = G.copy()/(np.linalg.norm(s)*np.linalg.norm(G)) # Precoding Vector\nx= w*s # Final Symbol Transmitted\nx = x * P.T",
   "execution_count": null,
   "outputs": []
  },
  {
   "cell_type": "code",
   "metadata": {
    "tags": [],
    "cell_id": "00013-cdb706ac-996c-466a-b007-5e84e7fea2d1",
    "deepnote_to_be_reexecuted": false,
    "source_hash": "eb725aad",
    "execution_start": 1628652570804,
    "execution_millis": 31,
    "deepnote_cell_type": "code"
   },
   "source": "np.square(x).sum() ## VERIFY SIGNAL POWER!",
   "execution_count": null,
   "outputs": [
    {
     "output_type": "execute_result",
     "execution_count": 40,
     "data": {
      "text/plain": "(3.669068326888214e-07-5.8068175450904e-08j)"
     },
     "metadata": {}
    }
   ]
  },
  {
   "cell_type": "markdown",
   "source": "## Transmitting the Signal",
   "metadata": {
    "tags": [],
    "is_collapsed": false,
    "cell_id": "00014-ef3bd136-5cdd-4b07-aa78-ce5e197b0171",
    "deepnote_cell_type": "text-cell-h2"
   }
  },
  {
   "cell_type": "code",
   "metadata": {
    "tags": [],
    "cell_id": "00013-ea0524a1-507b-440c-96ba-7e9f43952a94",
    "deepnote_to_be_reexecuted": false,
    "source_hash": "aba5fd0f",
    "execution_start": 1628530422303,
    "execution_millis": 0,
    "deepnote_cell_type": "code"
   },
   "source": "y = x * G ",
   "execution_count": null,
   "outputs": []
  },
  {
   "cell_type": "markdown",
   "source": "## Data Rate Expression",
   "metadata": {
    "tags": [],
    "cell_id": "00013-fb7672ea-c20d-41b4-b885-4598c4f76ed8",
    "deepnote_cell_type": "markdown"
   }
  },
  {
   "cell_type": "code",
   "metadata": {
    "tags": [],
    "cell_id": "00013-bea02996-2d26-4b7c-92fc-b76909a3b9e0",
    "deepnote_to_be_reexecuted": false,
    "source_hash": "408b5441",
    "execution_start": 1628652592897,
    "execution_millis": 19,
    "deepnote_cell_type": "code"
   },
   "source": "Theta = strongest_tap(H,1,N_e+1,K,L)\n#Theta = vector_heuristic(H,M)\nG = calculate_cascaded(H,Theta)\nR = calculate_datarate(G,x)",
   "execution_count": null,
   "outputs": [
    {
     "name": "stdout",
     "text": "(500, 257)\n",
     "output_type": "stream"
    }
   ]
  },
  {
   "cell_type": "code",
   "metadata": {
    "tags": [],
    "cell_id": "00025-176671c2-fdd2-408b-9dfa-4745ee04263e",
    "deepnote_to_be_reexecuted": false,
    "source_hash": "f07d0a9a",
    "execution_start": 1628652602847,
    "execution_millis": 9,
    "deepnote_cell_type": "code"
   },
   "source": "R/10**8",
   "execution_count": null,
   "outputs": [
    {
     "output_type": "execute_result",
     "execution_count": 45,
     "data": {
      "text/plain": "40.97576780857417"
     },
     "metadata": {}
    }
   ]
  },
  {
   "cell_type": "code",
   "metadata": {
    "tags": [],
    "cell_id": "00026-6377ba92-78b3-431a-9027-9e2b821de3d7",
    "deepnote_to_be_reexecuted": false,
    "source_hash": "b3a46b47",
    "execution_start": 1628652800324,
    "execution_millis": 215,
    "deepnote_cell_type": "code"
   },
   "source": "time_h = np.fft.ifft(H,K,axis=0)[:L,:]\nplt.plot(np.abs(time_h[:,0]))",
   "execution_count": null,
   "outputs": [
    {
     "output_type": "execute_result",
     "execution_count": 55,
     "data": {
      "text/plain": "[<matplotlib.lines.Line2D at 0x7f8bf2422a30>]"
     },
     "metadata": {}
    },
    {
     "data": {
      "text/plain": "<Figure size 432x288 with 1 Axes>",
      "image/png": "[encoded data removed]"
     },
     "metadata": {
      "needs_background": "light",
      "image/png": {
       "width": 362,
       "height": 259
      }
     },
     "output_type": "display_data"
    }
   ]
  },
  {
   "cell_type": "code",
   "metadata": {
    "tags": [],
    "cell_id": "00028-05d3a133-f02b-4eb8-b6fd-a3ad8c2e7dfb",
    "deepnote_to_be_reexecuted": false,
    "source_hash": "6ea8d756",
    "execution_start": 1628652630690,
    "execution_millis": 1534,
    "deepnote_cell_type": "code"
   },
   "source": "estimate = np.load(\"/work/IRS-Paper/estimate_d1.npy\")",
   "execution_count": null,
   "outputs": []
  },
  {
   "cell_type": "code",
   "metadata": {
    "tags": [],
    "cell_id": "00029-9d15f502-85f9-4cd0-9c84-a11943fa54bd",
    "deepnote_to_be_reexecuted": false,
    "source_hash": "2df835b",
    "execution_start": 1628531878316,
    "execution_millis": 12,
    "deepnote_cell_type": "code"
   },
   "source": "estimate.shape",
   "execution_count": null,
   "outputs": [
    {
     "output_type": "execute_result",
     "execution_count": 64,
     "data": {
      "text/plain": "(500, 4097)"
     },
     "metadata": {}
    }
   ]
  },
  {
   "cell_type": "code",
   "metadata": {
    "tags": [],
    "cell_id": "00030-e28276da-0ae8-4938-bfac-8f77606edef4",
    "deepnote_to_be_reexecuted": false,
    "source_hash": "5458cdaa",
    "execution_start": 1628652695360,
    "execution_millis": 0,
    "deepnote_cell_type": "code"
   },
   "source": "N_e = 4096\n#Theta = strongest_tap(estimate,1,N_e+1,K,L)\nTheta = vector_heuristic(estimate,M)\nG = calculate_cascaded(estimate,Theta)\nR = calculate_datarate(G,x)",
   "execution_count": null,
   "outputs": []
  },
  {
   "cell_type": "code",
   "metadata": {
    "tags": [],
    "cell_id": "00031-ae7dc240-7c60-49cf-9811-f6206f2de9b8",
    "deepnote_to_be_reexecuted": false,
    "source_hash": "c749d4e1",
    "execution_start": 1628652705407,
    "execution_millis": 8,
    "deepnote_cell_type": "code"
   },
   "source": "R",
   "execution_count": null,
   "outputs": [
    {
     "output_type": "execute_result",
     "execution_count": 52,
     "data": {
      "text/plain": "0.2142596565170049"
     },
     "metadata": {}
    }
   ]
  },
  {
   "cell_type": "code",
   "metadata": {
    "tags": [],
    "cell_id": "00032-14ebb027-fff7-4454-b02f-1657e32abec3",
    "deepnote_cell_type": "code"
   },
   "source": "",
   "execution_count": null,
   "outputs": []
  },
  {
   "cell_type": "markdown",
   "source": "<a style='text-decoration:none;line-height:16px;display:flex;color:#5B5B62;padding:10px;justify-content:end;' href='https://deepnote.com?utm_source=created-in-deepnote-cell&projectId=4b319ffc-f2ce-4490-9e28-3a7eb21abad0' target=\"_blank\">\n<img alt='Created in deepnote.com' style='display:inline;max-height:16px;margin:0px;margin-right:7.5px;' src='data:image/svg+xml;base64,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' > </img>\nCreated in <span style='font-weight:600;margin-left:4px;'>Deepnote</span></a>",
   "metadata": {
    "tags": [],
    "created_in_deepnote_cell": true,
    "deepnote_cell_type": "markdown"
   }
  }
 ],
 "nbformat": 4,
 "nbformat_minor": 5,
 "metadata": {
  "kernelspec": {
   "display_name": "Python 3",
   "language": "python",
   "name": "python3"
  },
  "language_info": {
   "codemirror_mode": {
    "name": "ipython",
    "version": 3
   },
   "file_extension": ".py",
   "mimetype": "text/x-python",
   "name": "python",
   "nbconvert_exporter": "python",
   "pygments_lexer": "ipython3",
   "version": "3.9.5"
  },
  "colab": {
   "name": "IRS problem.ipynb",
   "provenance": [],
   "collapsed_sections": [],
   "include_colab_link": true
  },
  "deepnote_notebook_id": "d12bcb6e-d24a-428e-8f05-6dff2627c4c7",
  "deepnote": {
   "is_reactive": false
  },
  "deepnote_execution_queue": []
 }
}