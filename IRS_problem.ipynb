{
  "nbformat": 4,
  "nbformat_minor": 5,
  "metadata": {
    "kernelspec": {
      "display_name": "Python 3",
      "language": "python",
      "name": "python3"
    },
    "language_info": {
      "codemirror_mode": {
        "name": "ipython",
        "version": 3
      },
      "file_extension": ".py",
      "mimetype": "text/x-python",
      "name": "python",
      "nbconvert_exporter": "python",
      "pygments_lexer": "ipython3",
      "version": "3.9.5"
    },
    "colab": {
      "name": "IRS problem.ipynb",
      "provenance": [],
      "collapsed_sections": [],
      "include_colab_link": true
    }
  },
  "cells": [
    {
      "cell_type": "markdown",
      "metadata": {
        "id": "view-in-github",
        "colab_type": "text"
      },
      "source": [
        "<a href=\"https://colab.research.google.com/github/aditj/IRS-Paper/blob/master/IRS_problem.ipynb\" target=\"_parent\"><img src=\"https://colab.research.google.com/assets/colab-badge.svg\" alt=\"Open In Colab\"/></a>"
      ]
    },
    {
      "cell_type": "code",
      "metadata": {
        "id": "05956a2f"
      },
      "source": [
        "import numpy as np\n",
        "import matplotlib.pyplot as plt\n",
        "import scipy.io\n",
        "import math"
      ],
      "id": "05956a2f",
      "execution_count": null,
      "outputs": []
    },
    {
      "cell_type": "code",
      "metadata": {
        "id": "54042b25"
      },
      "source": [
        "M = 2"
      ],
      "id": "54042b25",
      "execution_count": null,
      "outputs": []
    },
    {
      "cell_type": "code",
      "metadata": {
        "id": "ea2dd832"
      },
      "source": [
        "beta = 1\n",
        "mean = 0\n",
        "Num_Taps = 20\n",
        "Num_channels = 1\n",
        "H_d = mean + (math.sqrt(beta) * np.random.randn(Num_Taps, Num_channels*2).view(np.complex128))"
      ],
      "id": "ea2dd832",
      "execution_count": null,
      "outputs": []
    },
    {
      "cell_type": "code",
      "metadata": {
        "id": "c63288ee"
      },
      "source": [
        "from scipy.stats import rice"
      ],
      "id": "c63288ee",
      "execution_count": null,
      "outputs": []
    },
    {
      "cell_type": "code",
      "metadata": {
        "id": "fw7TwbHA0UwH"
      },
      "source": [
        "def rician(beta,k,h_d ,rows,cols):\n",
        "  det = math.sqrt(beta/(1+k))*h_d\n",
        "  ran = math.sqrt(beta*k/((1+k)*2)) * np.random.randn(rows, cols*2).view(np.complex128))\n",
        "  return det + ran"
      ],
      "id": "fw7TwbHA0UwH",
      "execution_count": null,
      "outputs": []
    },
    {
      "cell_type": "code",
      "metadata": {
        "id": "9cb3c660"
      },
      "source": [
        "beta = 1\n",
        "mean = 2+6j\n",
        "Num_Taps = 20\n",
        "Num_channels = 64\n",
        "H_n = mean + (math.sqrt(beta) * np.random.randn(Num_Taps, Num_channels*2).view(np.complex128))"
      ],
      "id": "9cb3c660",
      "execution_count": null,
      "outputs": []
    },
    {
      "cell_type": "code",
      "metadata": {
        "id": "5bcbe908",
        "outputId": "9a2a78f2-7ba2-4389-8bad-70368cf09ffe"
      },
      "source": [
        "H_d.shape, H_n.shape"
      ],
      "id": "5bcbe908",
      "execution_count": null,
      "outputs": [
        {
          "output_type": "execute_result",
          "data": {
            "text/plain": [
              "((20, 1), (20, 64))"
            ]
          },
          "metadata": {
            "tags": []
          },
          "execution_count": 23
        }
      ]
    },
    {
      "cell_type": "code",
      "metadata": {
        "id": "87251e01"
      },
      "source": [
        "H = np.concatenate((H_d,H_n), axis = 1)"
      ],
      "id": "87251e01",
      "execution_count": null,
      "outputs": []
    },
    {
      "cell_type": "code",
      "metadata": {
        "id": "94ce3fd8"
      },
      "source": [
        "IRS_config = np.exp(2j*np.random.randint(M,size=H_n.shape[1])*np.pi/M)\n",
        "Direct = np.ones(H_n.shape[1]).astype(np.complex128)\n",
        "G = np.concatenate((Direct,IRS_config), axis = 1)"
      ],
      "id": "94ce3fd8",
      "execution_count": null,
      "outputs": []
    },
    {
      "cell_type": "code",
      "metadata": {
        "id": "740fbded"
      },
      "source": [
        "H_f = np.multiply(G,H)"
      ],
      "id": "740fbded",
      "execution_count": null,
      "outputs": []
    },
    {
      "cell_type": "code",
      "metadata": {
        "id": "275bfb82"
      },
      "source": [
        ""
      ],
      "id": "275bfb82",
      "execution_count": null,
      "outputs": []
    }
  ]
}