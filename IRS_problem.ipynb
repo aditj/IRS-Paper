{
 "cells": [
  {
   "cell_type": "markdown",
   "source": "<a href=\"https://colab.research.google.com/github/aditj/IRS-Paper/blob/master/IRS_problem.ipynb\" target=\"_parent\"><img src=\"https://colab.research.google.com/assets/colab-badge.svg\" alt=\"Open In Colab\"/></a>",
   "metadata": {
    "id": "view-in-github",
    "colab_type": "text",
    "cell_id": "00000-8913e927-53ef-4039-bacd-341ba4617902",
    "deepnote_cell_type": "markdown"
   }
  },
  {
   "cell_type": "markdown",
   "source": "## Import Libraries",
   "metadata": {
    "tags": [],
    "cell_id": "00001-9d5dc261-db07-4104-bdc0-c75da12d5eb6",
    "deepnote_cell_type": "markdown"
   }
  },
  {
   "cell_type": "code",
   "metadata": {
    "id": "05956a2f",
    "cell_id": "00001-e0bf68ba-2d29-4663-a984-9679492bae1e",
    "deepnote_to_be_reexecuted": false,
    "source_hash": "1cb1255b",
    "execution_start": 1628006925824,
    "execution_millis": 1056,
    "deepnote_cell_type": "code"
   },
   "source": "import numpy as np\nimport matplotlib.pyplot as plt\nimport scipy.io\nimport math",
   "execution_count": 1,
   "outputs": []
  },
  {
   "cell_type": "markdown",
   "source": "## Helper Functions",
   "metadata": {
    "tags": [],
    "cell_id": "00003-114478db-4031-4b8d-b37f-305e45672a1f",
    "deepnote_cell_type": "markdown"
   }
  },
  {
   "cell_type": "markdown",
   "source": "We can sample the Channel coefficients from a rician distribution with parameters $\\beta$ and $K$. $\\mathbf{h_d}$ is constant and $\\mathbf{h_s}$ is sampled form a circularly symmetric standard Complex Gaussian  \n$$\\mathbf{h} = \\sqrt{\\frac{\\beta K}{1+K}} \\mathbf{h_d} + \\sqrt{\\frac{\\beta }{1+K}} \\mathbf{h_s}$$",
   "metadata": {
    "tags": [],
    "cell_id": "00004-01f0e169-20d6-4aa6-afa9-3b4b6a43e1fd",
    "deepnote_cell_type": "markdown"
   }
  },
  {
   "cell_type": "code",
   "source": "# get the channel coefficients from the rician distribution\ndef rician(beta,k,h_d=0 ,num_carriers=50,num_channels=1):\n    \"\"\"\n    returns a (num_carriers x num_channels) matrix with complex numbers whose magnitude would follow a rician distribution \n    beta is a distance dependent path loss parameter \n    K is ratio of deterministic to scattered power\n    \"\"\"\n    det = math.sqrt(beta*k/(1+k))* h_d\n    ran = math.sqrt(beta/((1+k)*2)) * np.random.randn(num_carriers, num_channels*2).view(np.complex128)\n    return ran+det",
   "metadata": {
    "tags": [],
    "cell_id": "00003-171853dc-6486-4005-881b-22ed55792288",
    "deepnote_to_be_reexecuted": false,
    "source_hash": "5d4ed945",
    "execution_start": 1628009661847,
    "execution_millis": 1,
    "deepnote_cell_type": "code"
   },
   "outputs": [],
   "execution_count": 48
  },
  {
   "cell_type": "markdown",
   "source": "## System Parameters",
   "metadata": {
    "tags": [],
    "cell_id": "00003-c86c4a7a-3758-4347-ba21-eb3971be04d6",
    "deepnote_cell_type": "markdown"
   }
  },
  {
   "cell_type": "code",
   "metadata": {
    "id": "54042b25",
    "cell_id": "00002-b096217c-c1bb-422a-ae5f-e97a52a2f231",
    "deepnote_to_be_reexecuted": false,
    "source_hash": "d0f31240",
    "execution_start": 1628009641205,
    "execution_millis": 2,
    "deepnote_cell_type": "code"
   },
   "source": "# General parameters\n\nM = 2 #Num of discrete phase-shifts\nN_x = 16\nN_y = 16\nN_e = N_x * N_y #Number of IRS elements\n\n# Channel information\n#direct channel\nbeta_d = 1\nk_d = 1\nconst_d = 0\n#BS to IRS channel\nbeta_bi = 1\nk_bi = 1\nconst_bi = 0\n#IRS to User channel\nbeta_iu = 1\nk_iu = 1\nconst_iu = 0",
   "execution_count": 47,
   "outputs": []
  },
  {
   "cell_type": "markdown",
   "source": "## Declaring variables",
   "metadata": {
    "tags": [],
    "cell_id": "00008-800b3d19-6700-4e20-b2e4-b650e4cfea05",
    "deepnote_cell_type": "markdown"
   }
  },
  {
   "cell_type": "code",
   "metadata": {
    "id": "ea2dd832",
    "cell_id": "00003-d3b3a50e-4ae4-41b5-83fa-a88978f04eb8",
    "deepnote_to_be_reexecuted": false,
    "source_hash": "eb870bb8",
    "execution_start": 1628009686127,
    "execution_millis": 2,
    "deepnote_cell_type": "code"
   },
   "source": "## CSI\n\nH_d = rician(beta=beta_d, k=k_d)\nH_bi = rician(beta=beta_bi,k=k_bi,num_channels=N_e)\nH_iu = rician(beta=beta_iu,k=k_iu,num_channels=N_e)\n\n## Theta\n\nIRS_config = np.exp(2j*np.random.randint(M,size=N_e)*np.pi/M)\nDirect = np.ones(1).astype(np.complex128)\nTheta = np.concatenate((Direct,IRS_config)).reshape((N_e+1,1))\n\n\n## Final channel\n\nH_id = np.multiply(H_bi,H_iu)\nH = np.concatenate((H_d,H_id), axis=1)\nG = np.matmul(H,Theta)",
   "execution_count": 50,
   "outputs": []
  },
  {
   "cell_type": "code",
   "source": "",
   "metadata": {
    "tags": [],
    "cell_id": "00012-c2e9a549-fb20-4ba4-b573-c5eba27d2874",
    "deepnote_cell_type": "code"
   },
   "outputs": [],
   "execution_count": null
  },
  {
   "cell_type": "markdown",
   "source": "<a style='text-decoration:none;line-height:16px;display:flex;color:#5B5B62;padding:10px;justify-content:end;' href='https://deepnote.com?utm_source=created-in-deepnote-cell&projectId=4b319ffc-f2ce-4490-9e28-3a7eb21abad0' target=\"_blank\">\n<img alt='Created in deepnote.com' style='display:inline;max-height:16px;margin:0px;margin-right:7.5px;' src='data:image/svg+xml;base64,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' > </img>\nCreated in <span style='font-weight:600;margin-left:4px;'>Deepnote</span></a>",
   "metadata": {
    "tags": [],
    "created_in_deepnote_cell": true,
    "deepnote_cell_type": "markdown"
   }
  }
 ],
 "nbformat": 4,
 "nbformat_minor": 5,
 "metadata": {
  "kernelspec": {
   "display_name": "Python 3",
   "language": "python",
   "name": "python3"
  },
  "language_info": {
   "codemirror_mode": {
    "name": "ipython",
    "version": 3
   },
   "file_extension": ".py",
   "mimetype": "text/x-python",
   "name": "python",
   "nbconvert_exporter": "python",
   "pygments_lexer": "ipython3",
   "version": "3.9.5"
  },
  "colab": {
   "name": "IRS problem.ipynb",
   "provenance": [],
   "collapsed_sections": [],
   "include_colab_link": true
  },
  "deepnote_notebook_id": "d12bcb6e-d24a-428e-8f05-6dff2627c4c7",
  "deepnote": {},
  "deepnote_execution_queue": []
 }
}